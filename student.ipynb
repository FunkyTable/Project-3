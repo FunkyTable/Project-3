{
 "cells": [
  {
   "cell_type": "markdown",
   "metadata": {},
   "source": [
    "## Project 3 – Final Project Submission\n",
    "\n",
    "* Student name: Greg Osborne\n",
    "* Student pace: self paced / part time\n",
    "* Scheduled project review date/time: 10/X/22\n",
    "* Instructor name: Morgan Jones\n",
    "* Blog post URL: https://medium.com/@gregosborne"
   ]
  },
  {
   "cell_type": "markdown",
   "metadata": {},
   "source": [
    "## Project Overview\n",
    "\n",
    "For this project, you will engage in the full data science process from start to finish, solving a **classification** problem using a **dataset of your choice**.\n",
    "\n",
    "### Business Problem and Data\n",
    "\n",
    "Similar to the Phase 2 project, it is up to you to define a stakeholder and business problem. Unlike the Phase 2 project, you are also responsible for choosing a dataset.\n",
    "\n",
    "For complete details, see [Phase 3 Project - Choosing a Dataset](https://github.com/learn-co-curriculum/dsc-phase-3-choosing-a-dataset).\n",
    "\n",
    "### Key Points\n",
    "\n",
    "#### Classification\n",
    "\n",
    "Recall the distinction between *classification* and *regression* models:\n",
    "\n",
    " * Classification is used when the target variable is a *category*\n",
    " * Regression is used when the target variable is a *numeric value*\n",
    "\n",
    "(Categorical data may be represented in the data as numbers, e.g. 0 and 1, but they are not truly numeric values. If you're unsure, ask yourself \"is a target value of 1 _one more than_ a target value of 0\"; if it is one more, that is a regression target, if not, that is a classification target.)\n",
    "\n",
    "You already practiced performing a regression analysis in Phase 2, and you will have additional opportunities to work on regression problems in later phases, but **for this project, you must be modeling a classification problem**.\n",
    "\n",
    "#### Findings and Recommendations\n",
    "\n",
    "In the previous two projects, the framing was primarily *descriptive* and *inferential*, meaning that you were trying to understand the distributions of variables and the relationship between them. For this project you can still use these techniques, but make sure you are also using a ***predictive*** approach.\n",
    "\n",
    "A predictive *finding* might include:\n",
    "\n",
    "* How well your model is able to predict the target\n",
    "* What features are most important to your model\n",
    "\n",
    "A predictive *recommendation* might include:\n",
    "\n",
    "* The contexts/situations where the predictions made by your model would and would not be useful for your stakeholder and business problem\n",
    "* Suggestions for how the business might modify certain input variables to achieve certain target results\n",
    "\n",
    "#### Iterative Approach to Modeling\n",
    "\n",
    "The expectations from the Phase 2 project still stand:\n",
    "\n",
    "> You should demonstrate an iterative approach to modeling. This means that you must build multiple models. Begin with a basic model, evaluate it, and then provide justification for and proceed to a new model. After you finish refining your models, you should provide 1-3 paragraphs in the notebook discussing your final model.\n",
    "\n",
    "With the additional techniques you have learned in Phase 3, be sure to explore:\n",
    "\n",
    "1. Model features and preprocessing approaches\n",
    "2. Different kinds of models (logistic regression, k-nearest neighbors, decision trees, etc.)\n",
    "3. Different model hyperparameters\n",
    "\n",
    "At minimum you must build three models:\n",
    "\n",
    "* A simple, interpretable baseline model (logistic regression or single decision tree)\n",
    "* A more-complex model (e.g. random forest)\n",
    "* A version of either the simple model or more-complex model with tuned hyperparameters\n",
    "\n",
    "#### Classification Metrics\n",
    "\n",
    "**You must choose appropriate classification metrics and use them to evaluate your models.** Choosing the right classification metrics is a key data science skill, and should be informed by data exploration and the business problem itself. You must then use this metric to evaluate your model performance using both training and testing data.\n",
    "\n",
    "## Deliverables\n",
    "\n",
    "There are three deliverables for this project:\n",
    "\n",
    "* A **non-technical presentation**\n",
    "* A **Jupyter Notebook**\n",
    "* A **GitHub repository**\n",
    "\n",
    "The deliverables requirements are almost the same as in the Phase 1 and Phase 2 projects. ***The only difference between the Phase 2 and Phase 3 project checklist is that the \"Regression Results\" element has been replaced with an \"Evaluation\" element.***"
   ]
  },
  {
   "cell_type": "markdown",
   "metadata": {},
   "source": [
    "# Stakeholder: Maple Homes\n",
    "# Problem: Maximize Salesmen Productivity\n",
    "Real estate company Maple Homes employs several salesmen who are paid a commission for each of home they sell. As is customary for salesman, the commission is a percentage of the sale price. Salesmen, like all of us, only have so much time. How do they know which houses will yield the highest prices? What should they look for? What are three independent variables to look for in a home that will yield a high sale price, and thus a higher commission?\n",
    "\n",
    "Maple Homes contracted FurPig industries to analyze county home sales data and give three recommendations to answer these questions."
   ]
  },
  {
   "cell_type": "markdown",
   "metadata": {},
   "source": [
    "# Functions\n",
    "Pandas libraries."
   ]
  },
  {
   "cell_type": "code",
   "execution_count": 1,
   "metadata": {},
   "outputs": [],
   "source": [
    "#DataFrames and computation\n",
    "import pandas as pd\n",
    "import numpy as np\n",
    "\n",
    "#Statsmodels for OLS modeling\n",
    "import statsmodels.api as sm\n",
    "from statsmodels.formula.api import ols\n",
    "import statsmodels.stats.api as sms\n",
    "\n",
    "\n",
    "#For plotting\n",
    "import seaborn as sns\n",
    "import matplotlib.pyplot as plt\n",
    "plt.style.use('seaborn')\n",
    "import scipy.stats as stats\n",
    "\n",
    "#To draw linear regression lines\n",
    "from sklearn.linear_model import LinearRegression\n",
    "from sklearn.preprocessing import PolynomialFeatures\n",
    "\n",
    "#For combinations\n",
    "from itertools import product\n",
    "\n",
    "#Setting DataFrame Display settings\n",
    "pd.set_option(\"display.max_columns\", None)"
   ]
  },
  {
   "cell_type": "code",
   "execution_count": null,
   "metadata": {},
   "outputs": [],
   "source": []
  }
 ],
 "metadata": {
  "kernelspec": {
   "display_name": "Python 3",
   "language": "python",
   "name": "python3"
  },
  "language_info": {
   "codemirror_mode": {
    "name": "ipython",
    "version": 3
   },
   "file_extension": ".py",
   "mimetype": "text/x-python",
   "name": "python",
   "nbconvert_exporter": "python",
   "pygments_lexer": "ipython3",
   "version": "3.8.5"
  }
 },
 "nbformat": 4,
 "nbformat_minor": 4
}
